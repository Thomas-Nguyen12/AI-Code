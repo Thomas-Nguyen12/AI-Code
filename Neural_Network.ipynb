{
  "nbformat": 4,
  "nbformat_minor": 0,
  "metadata": {
    "colab": {
      "provenance": []
    },
    "kernelspec": {
      "name": "python3",
      "display_name": "Python 3"
    },
    "language_info": {
      "name": "python"
    }
  },
  "cells": [
    {
      "cell_type": "code",
      "execution_count": null,
      "metadata": {
        "colab": {
          "base_uri": "https://localhost:8080/"
        },
        "id": "dBUUEA8YXnCi",
        "outputId": "fdc5cc0b-cd17-4b04-ae07-9a1dd005b080"
      },
      "outputs": [
        {
          "output_type": "stream",
          "name": "stdout",
          "text": [
            "hello\n"
          ]
        }
      ],
      "source": [
        "print (\"hello\")"
      ]
    },
    {
      "cell_type": "code",
      "source": [
        "import tensorflow as tf\n",
        "import matplotlib.pyplot as plt\n",
        "mnist = tf.keras.datasets.mnist\n",
        "(train_images, train_labels) , (test_images, test_labels) = mnist.load_data()\n",
        "# Printing the shapes\n",
        "print(\"train_images shape: \", train_images.shape) # This provides the dimensions of the images (pixels)\n",
        "print(\"train_labels shape: \", train_labels.shape)\n",
        "print(\"test_images shape: \", test_images.shape)\n",
        "print(\"test_labels shape: \", test_labels.shape)\n",
        "\n",
        " \n",
        "# Displaying first 9 images of dataset\n",
        "fig = plt.figure(figsize=(10,10))  # This creates a figure and sets its size\n",
        " \n",
        "\n",
        "# This sets the dimensions of how the images are arranged together\n",
        "nrows=3 \n",
        "ncols=3\n",
        "\n",
        "\n",
        "for i in range(9): # The \"for loop\" goes through each element in the numpy array of digits\n",
        "  fig.add_subplot(nrows, ncols, i+1) # This allows for side by side images\n",
        "  plt.imshow(train_images[i]) # This creates an image from a 2 dimensional numpy array\n",
        "  plt.title(\"Digit: {}\".format(train_labels[i])) # This displays the digit title above the image\n",
        "  plt.axis(False)\n",
        "plt.show()\n"
      ],
      "metadata": {
        "colab": {
          "base_uri": "https://localhost:8080/",
          "height": 716
        },
        "id": "WFcdRj6BXolA",
        "outputId": "e61c2c81-307c-4f04-ab15-f2d0bcfe6552"
      },
      "execution_count": null,
      "outputs": [
        {
          "output_type": "stream",
          "name": "stdout",
          "text": [
            "Downloading data from https://storage.googleapis.com/tensorflow/tf-keras-datasets/mnist.npz\n",
            "11493376/11490434 [==============================] - 0s 0us/step\n",
            "11501568/11490434 [==============================] - 0s 0us/step\n",
            "train_images shape:  (60000, 28, 28)\n",
            "train_labels shape:  (60000,)\n",
            "test_images shape:  (10000, 28, 28)\n",
            "test_labels shape:  (10000,)\n"
          ]
        },
        {
          "output_type": "display_data",
          "data": {
            "text/plain": [
              "<Figure size 720x720 with 9 Axes>"
            ],
            "image/png": "[encoded data removed]"
          },
          "metadata": {
            "needs_background": "light"
          }
        }
      ]
    },
    {
      "cell_type": "code",
      "source": [
        "import cv2 # This is for \"computer vision\"\n",
        "import numpy as np\n",
        "import matplotlib.pyplot as plt #This is for visualisation of digits\n",
        "import tensorflow as tf\n",
        "import os\n",
        "\n",
        "# This is where pre-processing begins\n",
        "mnist = tf.keras.datasets.mnist\n",
        "(x_train, y_train), (x_test, y_test) = mnist.load_data()\n",
        "\n",
        "x_train = tf.keras.utils.normalize(x_train, axis=1)\n",
        "x_test = tf.keras.utils.normalize(x_test, axis=1)\n",
        "\n",
        "model = tf.keras.models.Sequential()\n",
        "\n",
        "# The following three lines adds three layers of neurons\n",
        "# 28x28 pixels\n",
        "# Flatten turns into 28x28=784 pixels (one layer)\n",
        "model.add(tf.keras.layers.Flatten(input_shape=(28, 28))) # this collapses the spatial dimensions of the input into channel dimension\n",
        "# This layer has 128 neurons\n",
        "model.add(tf.keras.layers.Dense(128, activation=\"relu\")) # a dense layer is a layer that is deeply connected with its preceeding layer\n",
        "#Dense layer also means that the neurons of the layer are connected to every neuron of its preceeding layer\n",
        "# Here, activation function is added. relu is the activation function (rectify every linear unit)\n",
        "model.add(tf.keras.layers.Dense(128, activation=\"relu\"))\n",
        "\n",
        "# Softmax gives the probability for each digit to be the right answer\n",
        "# This is the output layer (which has 10 neurons)\n",
        "model.add(tf.keras.layers.Dense(10, activation=\"softmax\"))\n",
        "\n",
        "# optmizer tells the model how to update the weights/parameters of the model\n",
        "# Loss function tells model how to find the error \n",
        "# Metrics constains list of metrics used to monitor the train and test steps\n",
        "model.compile(optimizer=\"adam\", loss=\"sparse_categorical_crossentropy\", metrics=[\"accuracy\"])\n",
        "\n",
        "# mode.fit trains the neural network\n",
        "# The epoch states how many times the model can see the data. This is essentially the amount of \"training\"\n",
        "model.fit(x_train, y_train, epochs=3)\n",
        "\n",
        "model.save(\"Handwritten_model\")\n",
        "\n",
        "\n",
        "loss, accuracy = model.evaluate(x_test, y_test)\n",
        "print (loss)\n",
        "print (accuracy)"
      ],
      "metadata": {
        "colab": {
          "base_uri": "https://localhost:8080/"
        },
        "id": "ueA31ZB6Yu-L",
        "outputId": "f2857a44-dd25-4c18-ce74-645aa27af31a"
      },
      "execution_count": null,
      "outputs": [
        {
          "output_type": "stream",
          "name": "stdout",
          "text": [
            "Epoch 1/3\n",
            "1875/1875 [==============================] - 6s 3ms/step - loss: 0.2611 - accuracy: 0.9241\n",
            "Epoch 2/3\n",
            "1875/1875 [==============================] - 5s 3ms/step - loss: 0.1069 - accuracy: 0.9668\n",
            "Epoch 3/3\n",
            "1875/1875 [==============================] - 5s 3ms/step - loss: 0.0715 - accuracy: 0.9771\n",
            "313/313 [==============================] - 1s 2ms/step - loss: 0.0919 - accuracy: 0.9723\n",
            "0.09190362691879272\n",
            "0.9722999930381775\n"
          ]
        }
      ]
    },
    {
      "cell_type": "code",
      "source": [
        "# This is my training program"
      ],
      "metadata": {
        "colab": {
          "base_uri": "https://localhost:8080/",
          "height": 269
        },
        "id": "jm-UGLM3YtF5",
        "outputId": "c3a3729c-6418-4a10-8894-3ace5cb951b7"
      },
      "execution_count": null,
      "outputs": [
        {
          "output_type": "display_data",
          "data": {
            "text/plain": [
              "<Figure size 432x288 with 1 Axes>"
            ],
            "image/png": "[encoded data removed]"
          },
          "metadata": {
            "needs_background": "light"
          }
        }
      ]
    },
    {
      "cell_type": "code",
      "source": [
        "import cv2 # This is for \"computer vision\"\n",
        "import numpy as np\n",
        "import matplotlib.pyplot as plt #This is for visualisation of digits\n",
        "import tensorflow as tf\n",
        "import os\n",
        "\n",
        "# This is where pre-processing begins\n",
        "#mnist = tf.keras.datasets.mnist\n",
        "#(x_train, y_train), (x_test, y_test) = mnist.load_data()\n",
        "\n",
        "#x_train = tf.keras.utils.normalize(x_train, axis=1)\n",
        "#x_test = tf.keras.utils.normalize(x_test, axis=1)\n",
        "\n",
        "#model = tf.keras.models.Sequential()\n",
        "\n",
        "# The following three lines adds three layers of neurons\n",
        "# 28x28 pixels\n",
        "# Flatten turns into 28x28=784 pixels (one layer)\n",
        "#model.add(tf.keras.layers.Flatten(input_shape=(28, 28))) # this collapses the spatial dimensions of the input into channel dimension\n",
        "# This layer has 128 neurons\n",
        "#model.add(tf.keras.layers.Dense(128, activation=\"relu\")) # a dense layer is a layer that is deeply connected with its preceeding layer\n",
        "#Dense layer also means that the neurons of the layer are connected to every neuron of its preceeding layer\n",
        "# Here, activation function is added. relu is the activation function (rectify every linear unit)\n",
        "#model.add(tf.keras.layers.Dense(128, activation=\"relu\"))\n",
        "\n",
        "# Softmax gives the probability for each digit to be the right answer\n",
        "# This is the output layer (which has 10 neurons)\n",
        "#model.add(tf.keras.layers.Dense(10, activation=\"softmax\"))\n",
        "\n",
        "# optmizer tells the model how to update the weights/parameters of the model\n",
        "# Loss function tells model how to find the error \n",
        "# Metrics constains list of metrics used to monitor the train and test steps\n",
        "#model.compile(optimizer=\"adam\", loss=\"sparse_categorical_crossentropy\", metrics=[\"accuracy\"])\n",
        "\n",
        "# mode.fit trains the neural network\n",
        "# The epoch states how many times the model can see the data. This is essentially the amount of \"training\"\n",
        "#model.fit(x_train, y_train, epochs=3)\n",
        "\n",
        "#model.save(\"Handwritten_model\")\n",
        "\n",
        "image_number = 1\n",
        "\n",
        "#img = cv2.imread(\"MEGA/TEST_IMAGE.jpg\")\n",
        "#img = np.invert(np.array(img))\n",
        "\n",
        "\n",
        "\n",
        "# This will give the digit for activation function\n",
        "model = tf.keras.models.load_model(\"Handwritten_model\")\n",
        "\n",
        "#print (\"This number is probably a {np.argmax(prediction)}\")\n",
        "#plt.imshow(img[0], cmap=plt.cm.binary)\n",
        "#plt.show()\n",
        "\n",
        "\n",
        "\n",
        "\n",
        "\n",
        "while os.path.isfile(\"MEGA/TEST_IMAGE.jpg\"):\n",
        "  try:\n",
        "    img = cv2.iread(\"MEGA/TEST_IMAGE.jpg\")\n",
        "    img = np.invert(np.array([img]))\n",
        "    prediction = model.predict(img)\n",
        "    print (f\"This is probably a {np.argmax(prediction)}\")\n",
        "    plt.imshow(img[0], cmap=plt.cm.binary)\n",
        "    plt.show()\n",
        "  except:\n",
        "    print (\"ERROR\")\n",
        "  finally:\n",
        "    print (\"OKAY\")\n",
        "\n",
        "\n",
        "\n",
        "\n",
        "#print (loss)\n",
        "#print (accuracy)"
      ],
      "metadata": {
        "colab": {
          "base_uri": "https://localhost:8080/",
          "height": 389
        },
        "id": "tWjODnJuoeAW",
        "outputId": "6ba9f5ab-adc4-4cec-a34c-96f187bba8fb"
      },
      "execution_count": null,
      "outputs": [
        {
          "output_type": "error",
          "ename": "OSError",
          "evalue": "ignored",
          "traceback": [
            "\u001b[0;31m---------------------------------------------------------------------------\u001b[0m",
            "\u001b[0;31mOSError\u001b[0m                                   Traceback (most recent call last)",
            "\u001b[0;32m<ipython-input-1-f917daf161e0>\u001b[0m in \u001b[0;36m<module>\u001b[0;34m()\u001b[0m\n\u001b[1;32m     47\u001b[0m \u001b[0;34m\u001b[0m\u001b[0m\n\u001b[1;32m     48\u001b[0m \u001b[0;31m# This will give the digit for activation function\u001b[0m\u001b[0;34m\u001b[0m\u001b[0;34m\u001b[0m\u001b[0;34m\u001b[0m\u001b[0m\n\u001b[0;32m---> 49\u001b[0;31m \u001b[0mmodel\u001b[0m \u001b[0;34m=\u001b[0m \u001b[0mtf\u001b[0m\u001b[0;34m.\u001b[0m\u001b[0mkeras\u001b[0m\u001b[0;34m.\u001b[0m\u001b[0mmodels\u001b[0m\u001b[0;34m.\u001b[0m\u001b[0mload_model\u001b[0m\u001b[0;34m(\u001b[0m\u001b[0;34m\"Handwritten_model\"\u001b[0m\u001b[0;34m)\u001b[0m\u001b[0;34m\u001b[0m\u001b[0;34m\u001b[0m\u001b[0m\n\u001b[0m\u001b[1;32m     50\u001b[0m \u001b[0;34m\u001b[0m\u001b[0m\n\u001b[1;32m     51\u001b[0m \u001b[0;31m#print (\"This number is probably a {np.argmax(prediction)}\")\u001b[0m\u001b[0;34m\u001b[0m\u001b[0;34m\u001b[0m\u001b[0;34m\u001b[0m\u001b[0m\n",
            "\u001b[0;32m/usr/local/lib/python3.7/dist-packages/keras/utils/traceback_utils.py\u001b[0m in \u001b[0;36merror_handler\u001b[0;34m(*args, **kwargs)\u001b[0m\n\u001b[1;32m     65\u001b[0m     \u001b[0;32mexcept\u001b[0m \u001b[0mException\u001b[0m \u001b[0;32mas\u001b[0m \u001b[0me\u001b[0m\u001b[0;34m:\u001b[0m  \u001b[0;31m# pylint: disable=broad-except\u001b[0m\u001b[0;34m\u001b[0m\u001b[0;34m\u001b[0m\u001b[0m\n\u001b[1;32m     66\u001b[0m       \u001b[0mfiltered_tb\u001b[0m \u001b[0;34m=\u001b[0m \u001b[0m_process_traceback_frames\u001b[0m\u001b[0;34m(\u001b[0m\u001b[0me\u001b[0m\u001b[0;34m.\u001b[0m\u001b[0m__traceback__\u001b[0m\u001b[0;34m)\u001b[0m\u001b[0;34m\u001b[0m\u001b[0;34m\u001b[0m\u001b[0m\n\u001b[0;32m---> 67\u001b[0;31m       \u001b[0;32mraise\u001b[0m \u001b[0me\u001b[0m\u001b[0;34m.\u001b[0m\u001b[0mwith_traceback\u001b[0m\u001b[0;34m(\u001b[0m\u001b[0mfiltered_tb\u001b[0m\u001b[0;34m)\u001b[0m \u001b[0;32mfrom\u001b[0m \u001b[0;32mNone\u001b[0m\u001b[0;34m\u001b[0m\u001b[0;34m\u001b[0m\u001b[0m\n\u001b[0m\u001b[1;32m     68\u001b[0m     \u001b[0;32mfinally\u001b[0m\u001b[0;34m:\u001b[0m\u001b[0;34m\u001b[0m\u001b[0;34m\u001b[0m\u001b[0m\n\u001b[1;32m     69\u001b[0m       \u001b[0;32mdel\u001b[0m \u001b[0mfiltered_tb\u001b[0m\u001b[0;34m\u001b[0m\u001b[0;34m\u001b[0m\u001b[0m\n",
            "\u001b[0;32m/usr/local/lib/python3.7/dist-packages/keras/saving/save.py\u001b[0m in \u001b[0;36mload_model\u001b[0;34m(filepath, custom_objects, compile, options)\u001b[0m\n\u001b[1;32m    202\u001b[0m         \u001b[0;32mif\u001b[0m \u001b[0misinstance\u001b[0m\u001b[0;34m(\u001b[0m\u001b[0mfilepath_str\u001b[0m\u001b[0;34m,\u001b[0m \u001b[0mstr\u001b[0m\u001b[0;34m)\u001b[0m\u001b[0;34m:\u001b[0m\u001b[0;34m\u001b[0m\u001b[0;34m\u001b[0m\u001b[0m\n\u001b[1;32m    203\u001b[0m           \u001b[0;32mif\u001b[0m \u001b[0;32mnot\u001b[0m \u001b[0mtf\u001b[0m\u001b[0;34m.\u001b[0m\u001b[0mio\u001b[0m\u001b[0;34m.\u001b[0m\u001b[0mgfile\u001b[0m\u001b[0;34m.\u001b[0m\u001b[0mexists\u001b[0m\u001b[0;34m(\u001b[0m\u001b[0mfilepath_str\u001b[0m\u001b[0;34m)\u001b[0m\u001b[0;34m:\u001b[0m\u001b[0;34m\u001b[0m\u001b[0;34m\u001b[0m\u001b[0m\n\u001b[0;32m--> 204\u001b[0;31m             \u001b[0;32mraise\u001b[0m \u001b[0mIOError\u001b[0m\u001b[0;34m(\u001b[0m\u001b[0;34mf'No file or directory found at {filepath_str}'\u001b[0m\u001b[0;34m)\u001b[0m\u001b[0;34m\u001b[0m\u001b[0;34m\u001b[0m\u001b[0m\n\u001b[0m\u001b[1;32m    205\u001b[0m \u001b[0;34m\u001b[0m\u001b[0m\n\u001b[1;32m    206\u001b[0m           \u001b[0;32mif\u001b[0m \u001b[0mtf\u001b[0m\u001b[0;34m.\u001b[0m\u001b[0mio\u001b[0m\u001b[0;34m.\u001b[0m\u001b[0mgfile\u001b[0m\u001b[0;34m.\u001b[0m\u001b[0misdir\u001b[0m\u001b[0;34m(\u001b[0m\u001b[0mfilepath_str\u001b[0m\u001b[0;34m)\u001b[0m\u001b[0;34m:\u001b[0m\u001b[0;34m\u001b[0m\u001b[0;34m\u001b[0m\u001b[0m\n",
            "\u001b[0;31mOSError\u001b[0m: No file or directory found at Handwritten_model"
          ]
        }
      ]
    },
    {
      "cell_type": "code",
      "source": [],
      "metadata": {
        "id": "kS5NqbfEtxaK"
      },
      "execution_count": null,
      "outputs": []
    }
  ]
}